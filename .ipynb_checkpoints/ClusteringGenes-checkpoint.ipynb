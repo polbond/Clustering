{
 "cells": [
  {
   "cell_type": "markdown",
   "id": "59901942",
   "metadata": {},
   "source": [
    "# Métodos de agrupamiento para Genes de cancer (Bionformática)"
   ]
  },
  {
   "cell_type": "code",
   "execution_count": 1,
   "id": "cf7fdb27",
   "metadata": {},
   "outputs": [],
   "source": [
    "# Data structure and plots\n",
    "import numpy as np\n",
    "import pandas as pd\n",
    "import time\n",
    "\n",
    "# Preprocessing\n",
    "from sklearn.metrics import confusion_matrix\n",
    "from sklearn.model_selection import train_test_split\n",
    "from sklearn.metrics import accuracy_score\n",
    "from sklearn.metrics import classification_report\n",
    "from sklearn import preprocessing\n",
    "from sklearn.preprocessing import StandardScaler\n",
    "\n",
    "# Clustering\n",
    "from sklearn.cluster import KMeans\n",
    "from sklearn.metrics import pairwise_distances\n",
    "from sklearn.decomposition import PCA  # Dimensionality reduction\n",
    "\n",
    "# GRaphics\n",
    "from mpl_toolkits.mplot3d import Axes3D\n",
    "import matplotlib.pyplot as plt\n",
    "import matplotlib as mpl\n",
    "plt.rcParams[\"figure.figsize\"] = (12, 12)"
   ]
  },
  {
   "cell_type": "markdown",
   "id": "6a2c8b1d",
   "metadata": {},
   "source": [
    "# Import Dataset Function"
   ]
  },
  {
   "cell_type": "code",
   "execution_count": 2,
   "id": "9042548d",
   "metadata": {},
   "outputs": [],
   "source": [
    "def importdata():\n",
    "    df = pd.read_csv(\n",
    "\"../Datasets/TCGA-PANCAN-Hiseq-198x200(801x20531).csv\",\n",
    "    index_col=0)\n",
    "    # Printing the dataswet shape\n",
    "    print (\"Dataset Length: \", len(df))\n",
    "    print (\"Dataset Shape: \", df.shape)\n",
    "    # Printing the dataset obseravtions\n",
    "    print (\"Dataset: \\n\", df.head())\n",
    "#    print (\"Columns: \", df.columns[0:200])\n",
    "    return df"
   ]
  },
  {
   "cell_type": "code",
   "execution_count": 3,
   "id": "77b580f6",
   "metadata": {},
   "outputs": [],
   "source": [
    "def cal_accuracy(i, y_test, y_pred):\n",
    "    \n",
    "    cm = confusion_matrix(y_test, y_pred)\n",
    "    #print(\"Confusion Matrix: \\n\", cm)\n",
    "    import seaborn as sns\n",
    "    plt.figure(i)\n",
    "    plt.plot([1,1])\n",
    "    sns.heatmap(cm, annot=True)\n",
    "    plt.show()\n",
    "    print (\"Accuracy : \\n\",\n",
    "    accuracy_score(y_test,y_pred)*100)\n",
    "    \n",
    "    print(\"Report : \\n\",\n",
    "    classification_report(y_test, y_pred))"
   ]
  },
  {
   "cell_type": "markdown",
   "id": "2fe5bade",
   "metadata": {},
   "source": [
    "# Function to split the dataset"
   ]
  },
  {
   "cell_type": "code",
   "execution_count": 4,
   "id": "39a78098",
   "metadata": {},
   "outputs": [],
   "source": [
    "def splitdataset(balance_data):\n",
    "\n",
    "    # Separating the target variable\n",
    "    X = balance_data.values[:, 1:200]\n",
    "    Y = balance_data.values[:, 201]\n",
    "    Y = Y.astype('str')\n",
    "    le = preprocessing.LabelEncoder()\n",
    "    le.fit(Y)\n",
    "    print(\"clases: \\n\", le.classes_)\n",
    "    classes = le.classes_\n",
    "#    Yn = le.transform(Y)\n",
    "#    print(\"Transformación \", Yn)\n",
    "\n",
    "    print(\"Dataset using: \", np.shape(X))\n",
    "    # Splitting the dataset into train and test\n",
    "    X_train, X_test, y_train, y_test, = train_test_split(\n",
    "    X, Y, test_size = 0.3, random_state = 100)\n",
    "    \n",
    "    return X, Y, X_train, X_test, y_train, y_test, classes  "
   ]
  },
  {
   "cell_type": "markdown",
   "id": "848a35ff",
   "metadata": {},
   "source": [
    "# Main Code"
   ]
  },
  {
   "cell_type": "markdown",
   "id": "1e4db84a",
   "metadata": {},
   "source": [
    "## Preprocessing and "
   ]
  },
  {
   "cell_type": "code",
   "execution_count": 5,
   "id": "de9a3c39",
   "metadata": {},
   "outputs": [
    {
     "name": "stdout",
     "output_type": "stream",
     "text": [
      "-------------------------------------------------------------------------\n",
      "\n",
      "-------------------------------------------------------------------------\n",
      "\n",
      "Data form csv\n"
     ]
    },
    {
     "ename": "FileNotFoundError",
     "evalue": "[Errno 2] No such file or directory: '../Datasets/TCGA-PANCAN-Hiseq-198x200(801x20531).csv'",
     "output_type": "error",
     "traceback": [
      "\u001b[1;31m---------------------------------------------------------------------------\u001b[0m",
      "\u001b[1;31mFileNotFoundError\u001b[0m                         Traceback (most recent call last)",
      "\u001b[1;32m<ipython-input-5-af102bb7a6f3>\u001b[0m in \u001b[0;36m<module>\u001b[1;34m\u001b[0m\n\u001b[0;32m      2\u001b[0m \u001b[0mprint\u001b[0m\u001b[1;33m(\u001b[0m\u001b[1;34m\"-------------------------------------------------------------------------\\n\"\u001b[0m\u001b[1;33m)\u001b[0m\u001b[1;33m\u001b[0m\u001b[1;33m\u001b[0m\u001b[0m\n\u001b[0;32m      3\u001b[0m \u001b[0mprint\u001b[0m\u001b[1;33m(\u001b[0m\u001b[1;34m\"Data form csv\"\u001b[0m\u001b[1;33m)\u001b[0m\u001b[1;33m\u001b[0m\u001b[1;33m\u001b[0m\u001b[0m\n\u001b[1;32m----> 4\u001b[1;33m \u001b[0mdata\u001b[0m \u001b[1;33m=\u001b[0m \u001b[0mimportdata\u001b[0m\u001b[1;33m(\u001b[0m\u001b[1;33m)\u001b[0m\u001b[1;33m\u001b[0m\u001b[1;33m\u001b[0m\u001b[0m\n\u001b[0m\u001b[0;32m      5\u001b[0m \u001b[1;33m\u001b[0m\u001b[0m\n\u001b[0;32m      6\u001b[0m \u001b[0mX\u001b[0m\u001b[1;33m,\u001b[0m \u001b[0mY\u001b[0m\u001b[1;33m,\u001b[0m \u001b[0mX_train\u001b[0m\u001b[1;33m,\u001b[0m \u001b[0mX_test\u001b[0m\u001b[1;33m,\u001b[0m \u001b[0my_train\u001b[0m\u001b[1;33m,\u001b[0m \u001b[0my_test\u001b[0m\u001b[1;33m,\u001b[0m \u001b[0mclasses\u001b[0m \u001b[1;33m=\u001b[0m \u001b[0msplitdataset\u001b[0m\u001b[1;33m(\u001b[0m\u001b[0mdata\u001b[0m\u001b[1;33m)\u001b[0m\u001b[1;33m\u001b[0m\u001b[1;33m\u001b[0m\u001b[0m\n",
      "\u001b[1;32m<ipython-input-2-752d1529a625>\u001b[0m in \u001b[0;36mimportdata\u001b[1;34m()\u001b[0m\n\u001b[0;32m      1\u001b[0m \u001b[1;32mdef\u001b[0m \u001b[0mimportdata\u001b[0m\u001b[1;33m(\u001b[0m\u001b[1;33m)\u001b[0m\u001b[1;33m:\u001b[0m\u001b[1;33m\u001b[0m\u001b[1;33m\u001b[0m\u001b[0m\n\u001b[1;32m----> 2\u001b[1;33m     df = pd.read_csv(\n\u001b[0m\u001b[0;32m      3\u001b[0m \u001b[1;34m\"../Datasets/TCGA-PANCAN-Hiseq-198x200(801x20531).csv\"\u001b[0m\u001b[1;33m,\u001b[0m\u001b[1;33m\u001b[0m\u001b[1;33m\u001b[0m\u001b[0m\n\u001b[0;32m      4\u001b[0m     index_col=0)\n\u001b[0;32m      5\u001b[0m     \u001b[1;31m# Printing the dataswet shape\u001b[0m\u001b[1;33m\u001b[0m\u001b[1;33m\u001b[0m\u001b[1;33m\u001b[0m\u001b[0m\n",
      "\u001b[1;32m~\\AppData\\Roaming\\Python\\Python39\\site-packages\\pandas\\util\\_decorators.py\u001b[0m in \u001b[0;36mwrapper\u001b[1;34m(*args, **kwargs)\u001b[0m\n\u001b[0;32m    309\u001b[0m                     \u001b[0mstacklevel\u001b[0m\u001b[1;33m=\u001b[0m\u001b[0mstacklevel\u001b[0m\u001b[1;33m,\u001b[0m\u001b[1;33m\u001b[0m\u001b[1;33m\u001b[0m\u001b[0m\n\u001b[0;32m    310\u001b[0m                 )\n\u001b[1;32m--> 311\u001b[1;33m             \u001b[1;32mreturn\u001b[0m \u001b[0mfunc\u001b[0m\u001b[1;33m(\u001b[0m\u001b[1;33m*\u001b[0m\u001b[0margs\u001b[0m\u001b[1;33m,\u001b[0m \u001b[1;33m**\u001b[0m\u001b[0mkwargs\u001b[0m\u001b[1;33m)\u001b[0m\u001b[1;33m\u001b[0m\u001b[1;33m\u001b[0m\u001b[0m\n\u001b[0m\u001b[0;32m    312\u001b[0m \u001b[1;33m\u001b[0m\u001b[0m\n\u001b[0;32m    313\u001b[0m         \u001b[1;32mreturn\u001b[0m \u001b[0mwrapper\u001b[0m\u001b[1;33m\u001b[0m\u001b[1;33m\u001b[0m\u001b[0m\n",
      "\u001b[1;32m~\\AppData\\Roaming\\Python\\Python39\\site-packages\\pandas\\io\\parsers\\readers.py\u001b[0m in \u001b[0;36mread_csv\u001b[1;34m(filepath_or_buffer, sep, delimiter, header, names, index_col, usecols, squeeze, prefix, mangle_dupe_cols, dtype, engine, converters, true_values, false_values, skipinitialspace, skiprows, skipfooter, nrows, na_values, keep_default_na, na_filter, verbose, skip_blank_lines, parse_dates, infer_datetime_format, keep_date_col, date_parser, dayfirst, cache_dates, iterator, chunksize, compression, thousands, decimal, lineterminator, quotechar, quoting, doublequote, escapechar, comment, encoding, encoding_errors, dialect, error_bad_lines, warn_bad_lines, on_bad_lines, delim_whitespace, low_memory, memory_map, float_precision, storage_options)\u001b[0m\n\u001b[0;32m    584\u001b[0m     \u001b[0mkwds\u001b[0m\u001b[1;33m.\u001b[0m\u001b[0mupdate\u001b[0m\u001b[1;33m(\u001b[0m\u001b[0mkwds_defaults\u001b[0m\u001b[1;33m)\u001b[0m\u001b[1;33m\u001b[0m\u001b[1;33m\u001b[0m\u001b[0m\n\u001b[0;32m    585\u001b[0m \u001b[1;33m\u001b[0m\u001b[0m\n\u001b[1;32m--> 586\u001b[1;33m     \u001b[1;32mreturn\u001b[0m \u001b[0m_read\u001b[0m\u001b[1;33m(\u001b[0m\u001b[0mfilepath_or_buffer\u001b[0m\u001b[1;33m,\u001b[0m \u001b[0mkwds\u001b[0m\u001b[1;33m)\u001b[0m\u001b[1;33m\u001b[0m\u001b[1;33m\u001b[0m\u001b[0m\n\u001b[0m\u001b[0;32m    587\u001b[0m \u001b[1;33m\u001b[0m\u001b[0m\n\u001b[0;32m    588\u001b[0m \u001b[1;33m\u001b[0m\u001b[0m\n",
      "\u001b[1;32m~\\AppData\\Roaming\\Python\\Python39\\site-packages\\pandas\\io\\parsers\\readers.py\u001b[0m in \u001b[0;36m_read\u001b[1;34m(filepath_or_buffer, kwds)\u001b[0m\n\u001b[0;32m    480\u001b[0m \u001b[1;33m\u001b[0m\u001b[0m\n\u001b[0;32m    481\u001b[0m     \u001b[1;31m# Create the parser.\u001b[0m\u001b[1;33m\u001b[0m\u001b[1;33m\u001b[0m\u001b[1;33m\u001b[0m\u001b[0m\n\u001b[1;32m--> 482\u001b[1;33m     \u001b[0mparser\u001b[0m \u001b[1;33m=\u001b[0m \u001b[0mTextFileReader\u001b[0m\u001b[1;33m(\u001b[0m\u001b[0mfilepath_or_buffer\u001b[0m\u001b[1;33m,\u001b[0m \u001b[1;33m**\u001b[0m\u001b[0mkwds\u001b[0m\u001b[1;33m)\u001b[0m\u001b[1;33m\u001b[0m\u001b[1;33m\u001b[0m\u001b[0m\n\u001b[0m\u001b[0;32m    483\u001b[0m \u001b[1;33m\u001b[0m\u001b[0m\n\u001b[0;32m    484\u001b[0m     \u001b[1;32mif\u001b[0m \u001b[0mchunksize\u001b[0m \u001b[1;32mor\u001b[0m \u001b[0miterator\u001b[0m\u001b[1;33m:\u001b[0m\u001b[1;33m\u001b[0m\u001b[1;33m\u001b[0m\u001b[0m\n",
      "\u001b[1;32m~\\AppData\\Roaming\\Python\\Python39\\site-packages\\pandas\\io\\parsers\\readers.py\u001b[0m in \u001b[0;36m__init__\u001b[1;34m(self, f, engine, **kwds)\u001b[0m\n\u001b[0;32m    809\u001b[0m             \u001b[0mself\u001b[0m\u001b[1;33m.\u001b[0m\u001b[0moptions\u001b[0m\u001b[1;33m[\u001b[0m\u001b[1;34m\"has_index_names\"\u001b[0m\u001b[1;33m]\u001b[0m \u001b[1;33m=\u001b[0m \u001b[0mkwds\u001b[0m\u001b[1;33m[\u001b[0m\u001b[1;34m\"has_index_names\"\u001b[0m\u001b[1;33m]\u001b[0m\u001b[1;33m\u001b[0m\u001b[1;33m\u001b[0m\u001b[0m\n\u001b[0;32m    810\u001b[0m \u001b[1;33m\u001b[0m\u001b[0m\n\u001b[1;32m--> 811\u001b[1;33m         \u001b[0mself\u001b[0m\u001b[1;33m.\u001b[0m\u001b[0m_engine\u001b[0m \u001b[1;33m=\u001b[0m \u001b[0mself\u001b[0m\u001b[1;33m.\u001b[0m\u001b[0m_make_engine\u001b[0m\u001b[1;33m(\u001b[0m\u001b[0mself\u001b[0m\u001b[1;33m.\u001b[0m\u001b[0mengine\u001b[0m\u001b[1;33m)\u001b[0m\u001b[1;33m\u001b[0m\u001b[1;33m\u001b[0m\u001b[0m\n\u001b[0m\u001b[0;32m    812\u001b[0m \u001b[1;33m\u001b[0m\u001b[0m\n\u001b[0;32m    813\u001b[0m     \u001b[1;32mdef\u001b[0m \u001b[0mclose\u001b[0m\u001b[1;33m(\u001b[0m\u001b[0mself\u001b[0m\u001b[1;33m)\u001b[0m\u001b[1;33m:\u001b[0m\u001b[1;33m\u001b[0m\u001b[1;33m\u001b[0m\u001b[0m\n",
      "\u001b[1;32m~\\AppData\\Roaming\\Python\\Python39\\site-packages\\pandas\\io\\parsers\\readers.py\u001b[0m in \u001b[0;36m_make_engine\u001b[1;34m(self, engine)\u001b[0m\n\u001b[0;32m   1038\u001b[0m             )\n\u001b[0;32m   1039\u001b[0m         \u001b[1;31m# error: Too many arguments for \"ParserBase\"\u001b[0m\u001b[1;33m\u001b[0m\u001b[1;33m\u001b[0m\u001b[1;33m\u001b[0m\u001b[0m\n\u001b[1;32m-> 1040\u001b[1;33m         \u001b[1;32mreturn\u001b[0m \u001b[0mmapping\u001b[0m\u001b[1;33m[\u001b[0m\u001b[0mengine\u001b[0m\u001b[1;33m]\u001b[0m\u001b[1;33m(\u001b[0m\u001b[0mself\u001b[0m\u001b[1;33m.\u001b[0m\u001b[0mf\u001b[0m\u001b[1;33m,\u001b[0m \u001b[1;33m**\u001b[0m\u001b[0mself\u001b[0m\u001b[1;33m.\u001b[0m\u001b[0moptions\u001b[0m\u001b[1;33m)\u001b[0m  \u001b[1;31m# type: ignore[call-arg]\u001b[0m\u001b[1;33m\u001b[0m\u001b[1;33m\u001b[0m\u001b[0m\n\u001b[0m\u001b[0;32m   1041\u001b[0m \u001b[1;33m\u001b[0m\u001b[0m\n\u001b[0;32m   1042\u001b[0m     \u001b[1;32mdef\u001b[0m \u001b[0m_failover_to_python\u001b[0m\u001b[1;33m(\u001b[0m\u001b[0mself\u001b[0m\u001b[1;33m)\u001b[0m\u001b[1;33m:\u001b[0m\u001b[1;33m\u001b[0m\u001b[1;33m\u001b[0m\u001b[0m\n",
      "\u001b[1;32m~\\AppData\\Roaming\\Python\\Python39\\site-packages\\pandas\\io\\parsers\\c_parser_wrapper.py\u001b[0m in \u001b[0;36m__init__\u001b[1;34m(self, src, **kwds)\u001b[0m\n\u001b[0;32m     49\u001b[0m \u001b[1;33m\u001b[0m\u001b[0m\n\u001b[0;32m     50\u001b[0m         \u001b[1;31m# open handles\u001b[0m\u001b[1;33m\u001b[0m\u001b[1;33m\u001b[0m\u001b[1;33m\u001b[0m\u001b[0m\n\u001b[1;32m---> 51\u001b[1;33m         \u001b[0mself\u001b[0m\u001b[1;33m.\u001b[0m\u001b[0m_open_handles\u001b[0m\u001b[1;33m(\u001b[0m\u001b[0msrc\u001b[0m\u001b[1;33m,\u001b[0m \u001b[0mkwds\u001b[0m\u001b[1;33m)\u001b[0m\u001b[1;33m\u001b[0m\u001b[1;33m\u001b[0m\u001b[0m\n\u001b[0m\u001b[0;32m     52\u001b[0m         \u001b[1;32massert\u001b[0m \u001b[0mself\u001b[0m\u001b[1;33m.\u001b[0m\u001b[0mhandles\u001b[0m \u001b[1;32mis\u001b[0m \u001b[1;32mnot\u001b[0m \u001b[1;32mNone\u001b[0m\u001b[1;33m\u001b[0m\u001b[1;33m\u001b[0m\u001b[0m\n\u001b[0;32m     53\u001b[0m \u001b[1;33m\u001b[0m\u001b[0m\n",
      "\u001b[1;32m~\\AppData\\Roaming\\Python\\Python39\\site-packages\\pandas\\io\\parsers\\base_parser.py\u001b[0m in \u001b[0;36m_open_handles\u001b[1;34m(self, src, kwds)\u001b[0m\n\u001b[0;32m    220\u001b[0m         \u001b[0mLet\u001b[0m \u001b[0mthe\u001b[0m \u001b[0mreaders\u001b[0m \u001b[0mopen\u001b[0m \u001b[0mIOHandles\u001b[0m \u001b[0mafter\u001b[0m \u001b[0mthey\u001b[0m \u001b[0mare\u001b[0m \u001b[0mdone\u001b[0m \u001b[1;32mwith\u001b[0m \u001b[0mtheir\u001b[0m \u001b[0mpotential\u001b[0m \u001b[0mraises\u001b[0m\u001b[1;33m.\u001b[0m\u001b[1;33m\u001b[0m\u001b[1;33m\u001b[0m\u001b[0m\n\u001b[0;32m    221\u001b[0m         \"\"\"\n\u001b[1;32m--> 222\u001b[1;33m         self.handles = get_handle(\n\u001b[0m\u001b[0;32m    223\u001b[0m             \u001b[0msrc\u001b[0m\u001b[1;33m,\u001b[0m\u001b[1;33m\u001b[0m\u001b[1;33m\u001b[0m\u001b[0m\n\u001b[0;32m    224\u001b[0m             \u001b[1;34m\"r\"\u001b[0m\u001b[1;33m,\u001b[0m\u001b[1;33m\u001b[0m\u001b[1;33m\u001b[0m\u001b[0m\n",
      "\u001b[1;32m~\\AppData\\Roaming\\Python\\Python39\\site-packages\\pandas\\io\\common.py\u001b[0m in \u001b[0;36mget_handle\u001b[1;34m(path_or_buf, mode, encoding, compression, memory_map, is_text, errors, storage_options)\u001b[0m\n\u001b[0;32m    699\u001b[0m         \u001b[1;32mif\u001b[0m \u001b[0mioargs\u001b[0m\u001b[1;33m.\u001b[0m\u001b[0mencoding\u001b[0m \u001b[1;32mand\u001b[0m \u001b[1;34m\"b\"\u001b[0m \u001b[1;32mnot\u001b[0m \u001b[1;32min\u001b[0m \u001b[0mioargs\u001b[0m\u001b[1;33m.\u001b[0m\u001b[0mmode\u001b[0m\u001b[1;33m:\u001b[0m\u001b[1;33m\u001b[0m\u001b[1;33m\u001b[0m\u001b[0m\n\u001b[0;32m    700\u001b[0m             \u001b[1;31m# Encoding\u001b[0m\u001b[1;33m\u001b[0m\u001b[1;33m\u001b[0m\u001b[1;33m\u001b[0m\u001b[0m\n\u001b[1;32m--> 701\u001b[1;33m             handle = open(\n\u001b[0m\u001b[0;32m    702\u001b[0m                 \u001b[0mhandle\u001b[0m\u001b[1;33m,\u001b[0m\u001b[1;33m\u001b[0m\u001b[1;33m\u001b[0m\u001b[0m\n\u001b[0;32m    703\u001b[0m                 \u001b[0mioargs\u001b[0m\u001b[1;33m.\u001b[0m\u001b[0mmode\u001b[0m\u001b[1;33m,\u001b[0m\u001b[1;33m\u001b[0m\u001b[1;33m\u001b[0m\u001b[0m\n",
      "\u001b[1;31mFileNotFoundError\u001b[0m: [Errno 2] No such file or directory: '../Datasets/TCGA-PANCAN-Hiseq-198x200(801x20531).csv'"
     ]
    }
   ],
   "source": [
    "print(\"-------------------------------------------------------------------------\\n\")\n",
    "print(\"-------------------------------------------------------------------------\\n\")\n",
    "print(\"Data form csv\")\n",
    "data = importdata()\n",
    "\n",
    "X, Y, X_train, X_test, y_train, y_test, classes = splitdataset(data)\n",
    "    \n",
    "#feature Scaling      \n",
    "#st_x= StandardScaler()    \n",
    "#x_train= st_x.fit_transform(X_train)    \n",
    "#x_test= st_x.transform(X_test)"
   ]
  },
  {
   "cell_type": "code",
   "execution_count": null,
   "id": "aafad42e",
   "metadata": {},
   "outputs": [],
   "source": [
    "classes,Yn_train=np.unique(y_train,return_inverse=True)\n",
    "print(y_train)\n",
    "print(classes)\n",
    "print(Yn_train)"
   ]
  },
  {
   "cell_type": "code",
   "execution_count": null,
   "id": "94b1e3d8",
   "metadata": {},
   "outputs": [],
   "source": [
    "C=12\n",
    "pca = PCA(n_components=C).fit(X_train)\n",
    "plt.figure(1)\n",
    "plt.plot(np.cumsum(pca.explained_variance_ratio_))\n",
    "plt.xlabel('number of components')\n",
    "plt.ylabel('cumulative explained variance');\n",
    "X_pca=pca.fit_transform(X_train)"
   ]
  },
  {
   "cell_type": "markdown",
   "id": "4ab391bf",
   "metadata": {},
   "source": [
    "## PCA with 3 components "
   ]
  },
  {
   "cell_type": "code",
   "execution_count": null,
   "id": "9847f8cc",
   "metadata": {},
   "outputs": [],
   "source": [
    "# Creating figure\n",
    "fig = plt.figure(2)\n",
    "ax = plt.axes(projection =\"3d\")\n",
    "# Creating plot\n",
    "colores=['blue','red','green','black','cyan']\n",
    "assigned=[]\n",
    "for row in Yn_train:\n",
    "    assigned.append(colores[row])\n",
    "print(X_pca.shape)\n",
    "ax.scatter3D(X_pca[:, 0], X_pca[:, 1], X_pca[:, 2], c=assigned,s=60)\n",
    "plt.title(\"simple 3D scatter plot with 5 cancer classes\")\n",
    "# show plot\n",
    "plt.show()"
   ]
  },
  {
   "cell_type": "code",
   "execution_count": null,
   "id": "4ebb6fc2",
   "metadata": {},
   "outputs": [],
   "source": [
    "Nc = range(1, 10)\n",
    "kmeans = [KMeans(n_clusters=i) for i in Nc]\n",
    "#kmeansCen = [kmeans[i].fit(X_pca) for i in range(len(kmeans))]\n",
    "score = [kmeans[i].fit(X_pca).score(X_pca) for i in range(len(kmeans))]"
   ]
  },
  {
   "cell_type": "code",
   "execution_count": null,
   "id": "50f3512e",
   "metadata": {},
   "outputs": [],
   "source": [
    "plt.plot(Nc,score)\n",
    "plt.xlabel('Number of Clusters')\n",
    "plt.ylabel('Score')\n",
    "plt.title('Elbow Curve')\n",
    "plt.show()"
   ]
  },
  {
   "cell_type": "code",
   "execution_count": null,
   "id": "fb6b9678",
   "metadata": {},
   "outputs": [],
   "source": [
    "# Predicting the clusters\n",
    "k_labels = kmeans[4].predict(X_pca)\n",
    "\n",
    "# Creating figure\n",
    "fig = plt.figure()\n",
    "ax = plt.axes(projection =\"3d\")\n",
    " \n",
    "# Creating plot\n",
    "colores=['blue','red','green','black','cyan','yellow','orange']\n",
    "predicted=[]\n",
    "assigned=[]\n",
    "for row in k_labels:\n",
    "    predicted.append(colores[row])\n",
    "for row in Yn_train:\n",
    "    assigned.append(colores[row])\n",
    "ax.scatter3D(X_pca[:, 0], X_pca[:, 1], X_pca[:, 2], marker='o',c=assigned,s=100)\n",
    "ax.scatter3D(X_pca[:, 0], X_pca[:, 1], X_pca[:, 2], marker='*',c=predicted,s=20)\n",
    "plt.title(\"Prediction with 5 classes with train dataset\")\n",
    " \n",
    "# show plot\n",
    "plt.show()"
   ]
  },
  {
   "cell_type": "code",
   "execution_count": null,
   "id": "bc096c67",
   "metadata": {},
   "outputs": [],
   "source": [
    "print(Yn_train)\n",
    "print(k_labels)"
   ]
  },
  {
   "cell_type": "markdown",
   "id": "861b0a7e",
   "metadata": {},
   "source": [
    "## Reetiquetamos los datos para realizar la matriz de confusión y ver que tan bien se realizó el agrupamiento con respecto a las secuencias correctas"
   ]
  },
  {
   "cell_type": "code",
   "execution_count": null,
   "id": "cfded960",
   "metadata": {},
   "outputs": [],
   "source": [
    "# Prep\n",
    "k_labels_matched = np.empty_like(k_labels)\n",
    "nums = np.unique(Yn_train)\n",
    "# For each cluster label...\n",
    "for p in np.unique(k_labels):\n",
    "    match_nums = [np.sum((k_labels==p)*(Yn_train==t)) for t in nums]\n",
    "    k_labels_matched[k_labels==p] = nums[np.argmax(match_nums)]"
   ]
  },
  {
   "cell_type": "code",
   "execution_count": null,
   "id": "629e6148",
   "metadata": {},
   "outputs": [],
   "source": [
    "print(Yn_train)\n",
    "print(k_labels_matched)"
   ]
  },
  {
   "cell_type": "code",
   "execution_count": null,
   "id": "59933948",
   "metadata": {},
   "outputs": [],
   "source": [
    "cal_accuracy(\"Kmeans\", Yn_train, k_labels_matched)"
   ]
  },
  {
   "cell_type": "markdown",
   "id": "32694f9c",
   "metadata": {},
   "source": [
    "## Test dataset with kmeans"
   ]
  },
  {
   "cell_type": "code",
   "execution_count": null,
   "id": "c7b091c9",
   "metadata": {},
   "outputs": [],
   "source": [
    "classes,Yn_test=np.unique(y_test,return_inverse=True)\n",
    "Xt_pca=pca.transform(X_test)\n",
    "# Predicting the clusters\n",
    "kt_labels = kmeans[4].predict(Xt_pca)\n",
    "print(kt_labels)"
   ]
  },
  {
   "cell_type": "code",
   "execution_count": null,
   "id": "89adfe2d",
   "metadata": {},
   "outputs": [],
   "source": [
    "# Creating figure\n",
    "fig = plt.figure()\n",
    "ax = plt.axes(projection =\"3d\")\n",
    " \n",
    "# Creating plot\n",
    "colores=['blue','red','cyan','yellow','orange']\n",
    "predicted=[]\n",
    "assigned=[]\n",
    "for row in kt_labels:\n",
    "    predicted.append(colores[row])\n",
    "for row in Yn_test:\n",
    "    assigned.append(colores[row])\n",
    "ax.scatter3D(Xt_pca[:, 0], Xt_pca[:, 1], Xt_pca[:, 2], marker='o',c=assigned,s=150)\n",
    "ax.scatter3D(Xt_pca[:, 0], Xt_pca[:, 1], Xt_pca[:, 2], marker='+',c=predicted,s=150)\n",
    "plt.title(\"Prediction with 5 classes with train dataset\")\n",
    " \n",
    "# show plot\n",
    "plt.show()"
   ]
  },
  {
   "cell_type": "code",
   "execution_count": null,
   "id": "8f5f231f",
   "metadata": {},
   "outputs": [],
   "source": [
    "# Prep\n",
    "kt_labels_matched = np.empty_like(kt_labels)\n",
    "nums = np.unique(Yn_test)\n",
    "# For each cluster label...\n",
    "for p in np.unique(k_labels):\n",
    "    match_nums = [np.sum((kt_labels==p)*(Yn_test==t)) for t in nums]\n",
    "    print(match_nums)\n",
    "    kt_labels_matched[kt_labels==p] = nums[np.argmax(match_nums)]\n",
    "print(kt_labels)\n",
    "print(Yn_test)\n",
    "print(kt_labels_matched)\n",
    "cal_accuracy(\"KmeansTest\", Yn_test, kt_labels_matched)"
   ]
  },
  {
   "cell_type": "code",
   "execution_count": null,
   "id": "50a9b349",
   "metadata": {},
   "outputs": [],
   "source": [
    "import scipy.cluster.hierarchy as sch\n",
    "dendrogram = sch.dendrogram(sch.linkage(X_train, method  = \"ward\"))\n",
    "plt.title('Dendrogram')\n",
    "plt.xlabel('Sequences')\n",
    "plt.ylabel('Euclidean distances')\n",
    "plt.show()"
   ]
  },
  {
   "cell_type": "code",
   "execution_count": null,
   "id": "61092551",
   "metadata": {},
   "outputs": [],
   "source": [
    "# Save fuction\n",
    "#import pickle\n",
    "#pickle.dump(kMeans, open(\"kmeans.pkl\", 'wb'))"
   ]
  }
 ],
 "metadata": {
  "kernelspec": {
   "display_name": "Python 3",
   "language": "python",
   "name": "python3"
  },
  "language_info": {
   "codemirror_mode": {
    "name": "ipython",
    "version": 3
   },
   "file_extension": ".py",
   "mimetype": "text/x-python",
   "name": "python",
   "nbconvert_exporter": "python",
   "pygments_lexer": "ipython3",
   "version": "3.9.5"
  }
 },
 "nbformat": 4,
 "nbformat_minor": 5
}
